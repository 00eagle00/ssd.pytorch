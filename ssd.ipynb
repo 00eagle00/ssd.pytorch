{
 "cells": [
  {
   "cell_type": "code",
   "execution_count": null,
   "metadata": {
    "collapsed": true
   },
   "outputs": [],
   "source": [
    "import torch.nn as nn\n",
    "import numpy as np\n",
    "from torch.autograd import Variable\n",
    "from torch.autograd import Function\n",
    "from utils import*\n",
    "from detection_output import Detect\n",
    "from prior_box import PriorBox\n",
    "import torchvision.transforms as transforms\n",
    "import torchvision.models as models\n",
    "from torch.utils.serialization import load_lua\n",
    "import PIL\n",
    "from PIL import Image\n",
    "\n",
    "\n",
    "\n",
    "class SSD(nn.Module):\n",
    "    def __init__(self, features1,num_classes):\n",
    "        super(SSD, self).__init__()\n",
    "        param=num_classes*3\n",
    "        self.features1 = features1\n",
    "        self.features2 = nn.Sequential(\n",
    "            nn.MaxPool2d(kernel_size=2, stride=2),\n",
    "            nn.Conv2d(512,512,kernel_size=3,padding=1),\n",
    "            nn.ReLU(inplace=True),\n",
    "            nn.Conv2d(512,512,kernel_size=3,padding=1),\n",
    "            nn.ReLU(inplace=True),\n",
    "            nn.Conv2d(512,512,kernel_size=3,padding=1),\n",
    "            nn.ReLU(inplace=True),\n",
    "            nn.MaxPool2d(kernel_size=3,stride=1,padding=1),\n",
    "            nn.Conv2d(512,1024,kernel_size=3,padding=6,dilation=6),\n",
    "            nn.ReLU(inplace=True),\n",
    "            nn.Conv2d(1024,1024,kernel_size=1,padding=1),\n",
    "            nn.ReLU(inplace=True),\n",
    "        )\n",
    "\n",
    "        self.features3 = nn.Sequential(\n",
    "            nn.Conv2d(1024,256,kernel_size=1,padding=1),\n",
    "            nn.ReLU(inplace=True),\n",
    "            nn.Conv2d(256,512,kernel_size=3,stride=2,padding=1),\n",
    "            nn.ReLU(inplace=True),\n",
    "        )\n",
    "        self.features4 = nn.Sequential(\n",
    "            nn.Conv2d(512,128,kernel_size=1,padding=1),\n",
    "            nn.ReLU(inplace=True),\n",
    "            nn.Conv2d(128,256,kernel_size=3,stride=2,padding=1),\n",
    "            nn.ReLU(inplace=True),\n",
    "        )\n",
    "        self.features5 = nn.Sequential(\n",
    "            nn.Conv2d(256,128,kernel_size=1,padding=1),\n",
    "            nn.ReLU(inplace=True),\n",
    "            nn.Conv2d(128,256,kernel_size=3,stride=2,padding=1),\n",
    "            nn.ReLU(inplace=True),\n",
    "        )\n",
    "        self.pool6 = nn.Sequential(\n",
    "            nn.AvgPool2d(kernel_size=3,stride=1),\n",
    "        )\n",
    "        #include conv4_3 and loc4_3 here (might as well include p4_3) to make weight transfer easier\n",
    "        self.l4_3 = nn.Conv2d(512,12,kernel_size=3,padding=1)\n",
    "        self.c4_3 = nn.Conv2d(512,param,kernel_size=3,padding=1)\n",
    "        self.p4_3 = PriorBox(num_classes, 300, 300, 30, -1, [1,2,1/2], [0.1, 0.1, 0.2, 0.2], False, True)\n",
    "        self.lfc7 = nn.Conv2d(1024,24,kernel_size=3,padding=1)\n",
    "        self.cfc7 = nn.Conv2d(1024,param*2,kernel_size=3,padding=1)\n",
    "        self.pfc7 = PriorBox(num_classes, 300, 300, 60, 114, [1,1,2,1/2,3,1/3], [0.1, 0.1, 0.2, 0.2], False, True)\n",
    "        self.l6_2=nn.Conv2d(512,24,kernel_size=3,padding=1)\n",
    "        self.c6_2=nn.Conv2d(512,param*2,kernel_size=3,padding=1)\n",
    "        self.p6_2=PriorBox(num_classes, 300, 300, 60, 114, [1,1,2,1/2,3,1/3], [0.1, 0.1, 0.2, 0.2], False, True)\n",
    "        self.l7_2=nn.Conv2d(256,24,kernel_size=3,padding=1)\n",
    "        self.c7_2=nn.Conv2d(256,param*2,kernel_size=3,padding=1)\n",
    "        self.p7_2=PriorBox(num_classes, 300, 300, 168, 222, [1,1,2,1/2,3,1/3], [0.1, 0.1, 0.2, 0.2], False, True)\n",
    "        self.p8_2=PriorBox(num_classes, 300, 300, 222, 276, [1,1,2,1/2,3,1/3], [0.1, 0.1, 0.2, 0.2], False, True)\n",
    "        self.pp6=PriorBox(num_classes, 300, 300, 276, 330, [1,1,2,1/2,3,1/3], [0.1, 0.1, 0.2, 0.2], False, True)\n",
    "        self.softmax = nn.Softmax()\n",
    "        self.detect = Detect(21, True, 0, 'CENTER', False, 200, 0.01, 0.45, 400, False, 1)\n",
    "        \n",
    "    def forward(self, x, phase):\n",
    "        x = self.features1(x)\n",
    "        x = self.features2(x)\n",
    "        branch2 = [torch.transpose(torch.transpose(self.lfc7(x),1,2),2,3).contiguous(),torch.transpose(torch.transpose(self.cfc7(x),1,2),2,3).contiguous()]\n",
    "        p2 = self.pfc7(x)\n",
    "        branch2 = [o.view(o.size(0),-1) for o in branch2]\n",
    "        x = self.features3(x)\n",
    "        branch3 = [torch.transpose(torch.transpose(self.l6_2(x),1,2),2,3).contiguous(),torch.transpose(torch.transpose(self.c6_2(x),1,2),2,3).contiguous()]\n",
    "        p3 = self.p6_2(x)\n",
    "        branch3 = [o.view(o.size(0),-1) for o in branch3]\n",
    "        x = self.features4(x)\n",
    "        branch4 = [torch.transpose(torch.transpose(self.l7_2(x),1,2),2,3).contiguous(),torch.transpose(torch.transpose(self.c7_2(x),1,2),2,3).contiguous()]\n",
    "        p4 = self.p7_2(x)\n",
    "        branch4 = [o.view(o.size(0),-1) for o in branch4]\n",
    "        x = self.features5(x)\n",
    "        branch5 = [torch.transpose(torch.transpose(self.l7_2(x),1,2),2,3).contiguous(),torch.transpose(torch.transpose(self.c7_2(x),1,2),2,3).contiguous()]\n",
    "        p5 = self.p8_2(x)\n",
    "        branch5 = [o.view(o.size(0),-1) for o in branch5]\n",
    "        x = self.pool6(x)\n",
    "        branch6 = [torch.transpose(torch.transpose(self.l7_2(x),1,2),2,3).contiguous(),torch.transpose(torch.transpose(self.c7_2(x),1,2),2,3).contiguous()]\n",
    "        p6 = self.pp6(x)\n",
    "        branch6 = [o.view(o.size(0),-1) for o in branch6]\n",
    "        loc_layers = torch.cat((branch2[0],branch3[0],branch4[0],branch5[0],branch6[0]),1)\n",
    "        conf_layers = torch.cat((branch2[1],branch3[1],branch4[1],branch5[1],branch6[1]),1)\n",
    "        box_layers = torch.cat((p2,p3,p4,p5,p6), 2)\n",
    "\n",
    "        if phase == \"test\":\n",
    "            conf_layers = conf_layers.view(-1,21)\n",
    "            conf_layers = self.softmax(conf_layers)\n",
    "            output = self.detect(loc_layers,conf_layers,box_layers)\n",
    "        else:\n",
    "            conf_layers = conf_layers.view(conf_layers.size(0),-1,21)\n",
    "\n",
    "        return output\n",
    "\n",
    "\n",
    "def make_layers(cfg, i,  batch_norm=False):\n",
    "    layers = []\n",
    "    in_channels = i\n",
    "    for v in cfg:\n",
    "        if v == 'M':\n",
    "            layers += [nn.MaxPool2d(kernel_size=2, stride=2)]\n",
    "        elif v == 'C':\n",
    "            layers += [nn.MaxPool2d(kernel_size=2, stride=2, ceil_mode=True)]\n",
    "        else:\n",
    "            conv2d = nn.Conv2d(in_channels, v, kernel_size=3, padding=1)\n",
    "            if batch_norm:\n",
    "                layers += [conv2d, nn.BatchNorm2d(v), nn.ReLU(inplace=True)]\n",
    "            else:\n",
    "                layers += [conv2d, nn.ReLU(inplace=True)]\n",
    "            in_channels = v\n",
    "    return nn.Sequential(*layers)\n",
    "\n",
    "\n",
    "cfg = {\n",
    "    'A': [64, 64, 'M', 128, 128, 'M', 256, 256, 256, 'C', 512, 512, 512],\n",
    "}\n",
    "\n",
    "net = SSD(make_layers(cfg['A'],3),21)\n"
   ]
  },
  {
   "cell_type": "code",
   "execution_count": null,
   "metadata": {
    "collapsed": false
   },
   "outputs": [],
   "source": []
  },
  {
   "cell_type": "code",
   "execution_count": null,
   "metadata": {
    "collapsed": false
   },
   "outputs": [],
   "source": [
    "imsize = 300\n",
    "loader = transforms.Compose([\n",
    "            transforms.Scale(imsize),# scale imported image\n",
    "            transforms.CenterCrop(imsize),\n",
    "            transforms.ToTensor()]) # transform it into a torch tensor\n",
    "\n",
    "def image_loader(image_name):\n",
    "    image = Image.open(image_name)\n",
    "    image = Variable(loader(image))\n",
    "    image = image.unsqueeze(0) # fake batch dimension required to fit network's input dimensions\n",
    "    return image\n",
    "\n",
    "img = image_loader(\"../PyTorch Projects/pytorch-ssd/IMG_9505.jpg\")"
   ]
  },
  {
   "cell_type": "code",
   "execution_count": null,
   "metadata": {
    "collapsed": false
   },
   "outputs": [],
   "source": [
    "ssd = load_lua('../PyTorch Projects/pytorch-ssd/VOC.t7')"
   ]
  },
  {
   "cell_type": "code",
   "execution_count": null,
   "metadata": {
    "collapsed": true
   },
   "outputs": [],
   "source": [
    "pytorch_modules = list(net.modules())"
   ]
  },
  {
   "cell_type": "code",
   "execution_count": null,
   "metadata": {
    "collapsed": false,
    "scrolled": false
   },
   "outputs": [],
   "source": [
    "next_pytorch_idx = 0\n",
    "for i, t7_module in enumerate(ssd.modules):\n",
    "    if not hasattr(t7_module, 'weight'):\n",
    "        continue\n",
    "    assert hasattr(t7_module, 'bias')\n",
    "    while not hasattr(pytorch_modules[next_pytorch_idx], 'weight'):\n",
    "        next_pytorch_idx += 1\n",
    "    pytorch_module = pytorch_modules[next_pytorch_idx]\n",
    "    next_pytorch_idx += 1\n",
    "    assert(t7_module.weight.size() == pytorch_module.weight.size())\n",
    "    print('Copying data from\\n  %r to\\n  %r' % (t7_module, pytorch_module))\n",
    "\n",
    "    pytorch_module.weight.data.copy_(t7_module.weight)\n",
    "    assert(t7_module.bias.size() == pytorch_module.bias.size())\n",
    "    pytorch_module.bias.data.copy_(t7_module.bias)\n"
   ]
  },
  {
   "cell_type": "code",
   "execution_count": null,
   "metadata": {
    "collapsed": false
   },
   "outputs": [],
   "source": [
    "out = net(img,'test')"
   ]
  },
  {
   "cell_type": "code",
   "execution_count": null,
   "metadata": {
    "collapsed": false
   },
   "outputs": [],
   "source": [
    "import os\n",
    "cwd = os.getcwd()"
   ]
  },
  {
   "cell_type": "code",
   "execution_count": null,
   "metadata": {
    "collapsed": true
   },
   "outputs": [],
   "source": [
    "cwd"
   ]
  }
 ],
 "metadata": {
  "kernelspec": {
   "display_name": "Python 3",
   "language": "python",
   "name": "python3"
  },
  "language_info": {
   "codemirror_mode": {
    "name": "ipython",
    "version": 3
   },
   "file_extension": ".py",
   "mimetype": "text/x-python",
   "name": "python",
   "nbconvert_exporter": "python",
   "pygments_lexer": "ipython3",
   "version": "3.6.0"
  }
 },
 "nbformat": 4,
 "nbformat_minor": 2
}
