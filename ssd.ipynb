{
 "cells": [
  {
   "cell_type": "code",
   "execution_count": 2,
   "metadata": {
    "collapsed": true
   },
   "outputs": [],
   "source": [
    "import torch.nn as nn\n",
    "import numpy as np\n",
    "from torch.autograd import Variable\n",
    "from torch.autograd import Function\n",
    "from utils import*\n",
    "from detection_output import Detect\n",
    "from prior_box import PriorBox\n",
    "import torchvision.transforms as transforms\n",
    "import torchvision.models as models\n",
    "from torch.utils.serialization import load_lua\n",
    "import PIL\n",
    "from PIL import Image\n",
    "\n",
    "\n",
    "\n",
    "\n",
    "class SSD(nn.Module):\n",
    "    def __init__(self, features1,num_classes):\n",
    "        super(SSD, self).__init__()\n",
    "        param=num_classes*3\n",
    "        self.features1 = features1\n",
    "        self.features2 = nn.Sequential(\n",
    "            nn.MaxPool2d(kernel_size=2, stride=2),\n",
    "            nn.Conv2d(512,512,kernel_size=3,padding=1),\n",
    "            nn.ReLU(inplace=True),\n",
    "            nn.Conv2d(512,512,kernel_size=3,padding=1),\n",
    "            nn.ReLU(inplace=True),\n",
    "            nn.Conv2d(512,512,kernel_size=3,padding=1),\n",
    "            nn.ReLU(inplace=True),\n",
    "            nn.MaxPool2d(kernel_size=3,stride=1,padding=1),\n",
    "            nn.Conv2d(512,1024,kernel_size=3,padding=6,dilation=6),\n",
    "            nn.ReLU(inplace=True),\n",
    "            nn.Conv2d(1024,1024,kernel_size=1,padding=1),\n",
    "            nn.ReLU(inplace=True),\n",
    "        )\n",
    "\n",
    "        self.features3 = nn.Sequential(\n",
    "            nn.Conv2d(1024,256,kernel_size=1,padding=1),\n",
    "            nn.ReLU(inplace=True),\n",
    "            nn.Conv2d(256,512,kernel_size=3,stride=2,padding=1),\n",
    "            nn.ReLU(inplace=True),\n",
    "        )\n",
    "        self.features4 = nn.Sequential(\n",
    "            nn.Conv2d(512,128,kernel_size=1,padding=1),\n",
    "            nn.ReLU(inplace=True),\n",
    "            nn.Conv2d(128,256,kernel_size=3,stride=2,padding=1),\n",
    "            nn.ReLU(inplace=True),\n",
    "        )\n",
    "        self.features5 = nn.Sequential(\n",
    "            nn.Conv2d(256,128,kernel_size=1,padding=1),\n",
    "            nn.ReLU(inplace=True),\n",
    "            nn.Conv2d(128,256,kernel_size=3,stride=2,padding=1),\n",
    "            nn.ReLU(inplace=True),\n",
    "        )\n",
    "        self.pool6 = nn.Sequential(\n",
    "            nn.AvgPool2d(kernel_size=3,stride=1),\n",
    "        )\n",
    "        #include conv4_3 and loc4_3 here (might as well include p4_3) to make weight transfer easier\n",
    "        self.l4_3 = nn.Conv2d(512,12,kernel_size=3,padding=1)\n",
    "        self.c4_3 = nn.Conv2d(512,param,kernel_size=3,padding=1)\n",
    "        self.p4_3 = PriorBox(num_classes, 300, 300, 30, -1, [1,2,1/2], [0.1, 0.1, 0.2, 0.2], False, True)\n",
    "        self.lfc7 = nn.Conv2d(1024,24,kernel_size=3,padding=1)\n",
    "        self.cfc7 = nn.Conv2d(1024,param*2,kernel_size=3,padding=1)\n",
    "        self.pfc7 = PriorBox(num_classes, 300, 300, 60, 114, [1,1,2,1/2,3,1/3], [0.1, 0.1, 0.2, 0.2], False, True)\n",
    "        self.l6_2=nn.Conv2d(512,24,kernel_size=3,padding=1)\n",
    "        self.c6_2=nn.Conv2d(512,param*2,kernel_size=3,padding=1)\n",
    "        self.p6_2=PriorBox(num_classes, 300, 300, 60, 114, [1,1,2,1/2,3,1/3], [0.1, 0.1, 0.2, 0.2], False, True)\n",
    "        self.l7_2=nn.Conv2d(256,24,kernel_size=3,padding=1)\n",
    "        self.c7_2=nn.Conv2d(256,param*2,kernel_size=3,padding=1)\n",
    "        self.p7_2=PriorBox(num_classes, 300, 300, 168, 222, [1,1,2,1/2,3,1/3], [0.1, 0.1, 0.2, 0.2], False, True)\n",
    "        self.p8_2=PriorBox(num_classes, 300, 300, 222, 276, [1,1,2,1/2,3,1/3], [0.1, 0.1, 0.2, 0.2], False, True)\n",
    "        self.pp6=PriorBox(num_classes, 300, 300, 276, 330, [1,1,2,1/2,3,1/3], [0.1, 0.1, 0.2, 0.2], False, True)\n",
    "        self.softmax = nn.Softmax()\n",
    "        self.detect = Detect(21, True, 0, 'CENTER', False, 200, 0.01, 0.45, 400, False, 1)\n",
    "        \n",
    "    def forward(self, x, phase):\n",
    "        x = self.features1(x)\n",
    "        x = self.features2(x)\n",
    "        branch2 = [torch.transpose(torch.transpose(self.lfc7(x),1,2),2,3).contiguous(),torch.transpose(torch.transpose(self.cfc7(x),1,2),2,3).contiguous()]\n",
    "        p2 = self.pfc7(x)\n",
    "        branch2 = [o.view(o.size(0),-1) for o in branch2]\n",
    "        x = self.features3(x)\n",
    "        branch3 = [torch.transpose(torch.transpose(self.l6_2(x),1,2),2,3).contiguous(),torch.transpose(torch.transpose(self.c6_2(x),1,2),2,3).contiguous()]\n",
    "        p3 = self.p6_2(x)\n",
    "        branch3 = [o.view(o.size(0),-1) for o in branch3]\n",
    "        x = self.features4(x)\n",
    "        branch4 = [torch.transpose(torch.transpose(self.l7_2(x),1,2),2,3).contiguous(),torch.transpose(torch.transpose(self.c7_2(x),1,2),2,3).contiguous()]\n",
    "        p4 = self.p7_2(x)\n",
    "        branch4 = [o.view(o.size(0),-1) for o in branch4]\n",
    "        x = self.features5(x)\n",
    "        branch5 = [torch.transpose(torch.transpose(self.l7_2(x),1,2),2,3).contiguous(),torch.transpose(torch.transpose(self.c7_2(x),1,2),2,3).contiguous()]\n",
    "        p5 = self.p8_2(x)\n",
    "        branch5 = [o.view(o.size(0),-1) for o in branch5]\n",
    "        x = self.pool6(x)\n",
    "        branch6 = [torch.transpose(torch.transpose(self.l7_2(x),1,2),2,3).contiguous(),torch.transpose(torch.transpose(self.c7_2(x),1,2),2,3).contiguous()]\n",
    "        p6 = self.pp6(x)\n",
    "        branch6 = [o.view(o.size(0),-1) for o in branch6]\n",
    "        loc_layers = torch.cat((branch2[0],branch3[0],branch4[0],branch5[0],branch6[0]),1)\n",
    "        conf_layers = torch.cat((branch2[1],branch3[1],branch4[1],branch5[1],branch6[1]),1)\n",
    "        box_layers = torch.cat((p2,p3,p4,p5,p6), 2)\n",
    "\n",
    "        if phase == \"test\":\n",
    "            conf_layers = conf_layers.view(-1,21)\n",
    "            conf_layers = self.softmax(conf_layers)\n",
    "            output = self.detect(loc_layers,conf_layers,box_layers)\n",
    "        else:\n",
    "            conf_layers = conf_layers.view(conf_layers.size(0),-1,21)\n",
    "\n",
    "        return output\n",
    "\n",
    "\n",
    "def make_layers(cfg, i,  batch_norm=False):\n",
    "    layers = []\n",
    "    in_channels = i\n",
    "    for v in cfg:\n",
    "        if v == 'M':\n",
    "            layers += [nn.MaxPool2d(kernel_size=2, stride=2)]\n",
    "        elif v == 'C':\n",
    "            layers += [nn.MaxPool2d(kernel_size=2, stride=2, ceil_mode=True)]\n",
    "        else:\n",
    "            conv2d = nn.Conv2d(in_channels, v, kernel_size=3, padding=1)\n",
    "            if batch_norm:\n",
    "                layers += [conv2d, nn.BatchNorm2d(v), nn.ReLU(inplace=True)]\n",
    "            else:\n",
    "                layers += [conv2d, nn.ReLU(inplace=True)]\n",
    "            in_channels = v\n",
    "    return nn.Sequential(*layers)\n",
    "\n",
    "\n",
    "cfg = {\n",
    "    'A': [64, 64, 'M', 128, 128, 'M', 256, 256, 256, 'C', 512, 512, 512],\n",
    "}\n",
    "\n",
    "net = SSD(make_layers(cfg['A'],3),21)\n"
   ]
  },
  {
   "cell_type": "code",
   "execution_count": 3,
   "metadata": {
    "collapsed": false
   },
   "outputs": [],
   "source": [
    "# imsize = 300\n",
    "# loader = transforms.Compose([\n",
    "#            # transforms.Scale(imsize),# scale imported image\n",
    "#            # transforms.CenterCrop(imsize),\n",
    "#             transforms.ToTensor()]) # transform it into a torch tensor\n",
    "\n",
    "# def image_loader(image_name):\n",
    "#     image = Image.open(image_name)\n",
    "#     image = loader(image)\n",
    "#     #image = image.unsqueeze(0) # fake batch dimension required to fit network's input dimensions\n",
    "#     return image\n",
    "\n",
    "\n",
    "# I = image_loader(\"../PyTorch Projects/pytorch-ssd/IMG_9505.jpg\")"
   ]
  },
  {
   "cell_type": "code",
   "execution_count": 4,
   "metadata": {
    "collapsed": false
   },
   "outputs": [],
   "source": [
    "# # input_scale = 0.0078125  # Scale input image\n",
    "# # input_dim = 300  # input dimension\n",
    "# raw_scale = 255\n",
    "# swap = [2,1,0]\n",
    "# mean_pix = [104,117,123]\n",
    "\n",
    "\n",
    "# #   local w, h  = img:size(3), img:size(2) \n",
    "# # I  = image.scale(pic, input_dim, input_dim)\n",
    "# I.mul_(raw_scale) \n",
    "\n",
    "# out = I.new().resize_as_(I) # swap channels \n",
    "# for i in range(I.size(0)):\n",
    "#     out[i] = I[swap[i]]\n",
    "# I = out\n",
    "  \n",
    "# for i in range(3): # subtract mean from each channel\n",
    "#     I[i].add(-mean_pix[i]) \n",
    "\n",
    " \n",
    "# I = I.view(1,I.size(0),I.size(1),I.size(2)) "
   ]
  },
  {
   "cell_type": "code",
   "execution_count": 5,
   "metadata": {
    "collapsed": true
   },
   "outputs": [],
   "source": [
    "img = load_lua('img9505.t7')"
   ]
  },
  {
   "cell_type": "code",
   "execution_count": 6,
   "metadata": {
    "collapsed": false
   },
   "outputs": [],
   "source": [
    "img = img.float()"
   ]
  },
  {
   "cell_type": "code",
   "execution_count": 7,
   "metadata": {
    "collapsed": false
   },
   "outputs": [],
   "source": [
    "ssd = load_lua('../PyTorch Projects/pytorch-ssd/VOC.t7')"
   ]
  },
  {
   "cell_type": "code",
   "execution_count": 8,
   "metadata": {
    "collapsed": true
   },
   "outputs": [],
   "source": [
    "pytorch_modules = list(net.modules())"
   ]
  },
  {
   "cell_type": "code",
   "execution_count": 9,
   "metadata": {
    "collapsed": false,
    "scrolled": true
   },
   "outputs": [
    {
     "name": "stdout",
     "output_type": "stream",
     "text": [
      "Copying data from\n",
      "  nn.SpatialConvolution(3 -> 64, 3x3, 1, 1, 1, 1) to\n",
      "  Conv2d(3, 64, kernel_size=(3, 3), stride=(1, 1), padding=(1, 1))\n",
      "Copying data from\n",
      "  nn.SpatialConvolution(64 -> 64, 3x3, 1, 1, 1, 1) to\n",
      "  Conv2d(64, 64, kernel_size=(3, 3), stride=(1, 1), padding=(1, 1))\n",
      "Copying data from\n",
      "  nn.SpatialConvolution(64 -> 128, 3x3, 1, 1, 1, 1) to\n",
      "  Conv2d(64, 128, kernel_size=(3, 3), stride=(1, 1), padding=(1, 1))\n",
      "Copying data from\n",
      "  nn.SpatialConvolution(128 -> 128, 3x3, 1, 1, 1, 1) to\n",
      "  Conv2d(128, 128, kernel_size=(3, 3), stride=(1, 1), padding=(1, 1))\n",
      "Copying data from\n",
      "  nn.SpatialConvolution(128 -> 256, 3x3, 1, 1, 1, 1) to\n",
      "  Conv2d(128, 256, kernel_size=(3, 3), stride=(1, 1), padding=(1, 1))\n",
      "Copying data from\n",
      "  nn.SpatialConvolution(256 -> 256, 3x3, 1, 1, 1, 1) to\n",
      "  Conv2d(256, 256, kernel_size=(3, 3), stride=(1, 1), padding=(1, 1))\n",
      "Copying data from\n",
      "  nn.SpatialConvolution(256 -> 256, 3x3, 1, 1, 1, 1) to\n",
      "  Conv2d(256, 256, kernel_size=(3, 3), stride=(1, 1), padding=(1, 1))\n",
      "Copying data from\n",
      "  nn.SpatialConvolution(256 -> 512, 3x3, 1, 1, 1, 1) to\n",
      "  Conv2d(256, 512, kernel_size=(3, 3), stride=(1, 1), padding=(1, 1))\n",
      "Copying data from\n",
      "  nn.SpatialConvolution(512 -> 512, 3x3, 1, 1, 1, 1) to\n",
      "  Conv2d(512, 512, kernel_size=(3, 3), stride=(1, 1), padding=(1, 1))\n",
      "Copying data from\n",
      "  nn.SpatialConvolution(512 -> 512, 3x3, 1, 1, 1, 1) to\n",
      "  Conv2d(512, 512, kernel_size=(3, 3), stride=(1, 1), padding=(1, 1))\n",
      "Copying data from\n",
      "  nn.SpatialConvolution(512 -> 512, 3x3, 1, 1, 1, 1) to\n",
      "  Conv2d(512, 512, kernel_size=(3, 3), stride=(1, 1), padding=(1, 1))\n",
      "Copying data from\n",
      "  nn.SpatialConvolution(512 -> 512, 3x3, 1, 1, 1, 1) to\n",
      "  Conv2d(512, 512, kernel_size=(3, 3), stride=(1, 1), padding=(1, 1))\n",
      "Copying data from\n",
      "  nn.SpatialConvolution(512 -> 512, 3x3, 1, 1, 1, 1) to\n",
      "  Conv2d(512, 512, kernel_size=(3, 3), stride=(1, 1), padding=(1, 1))\n",
      "Copying data from\n",
      "  nn.SpatialConvolution(512 -> 1024, 3x3, 1, 1, 6, 6) to\n",
      "  Conv2d(512, 1024, kernel_size=(3, 3), stride=(1, 1), padding=(6, 6), dilation=(6, 6))\n",
      "Copying data from\n",
      "  nn.SpatialConvolution(1024 -> 1024, 1x1) to\n",
      "  Conv2d(1024, 1024, kernel_size=(1, 1), stride=(1, 1), padding=(1, 1))\n",
      "Copying data from\n",
      "  nn.SpatialConvolution(1024 -> 256, 1x1) to\n",
      "  Conv2d(1024, 256, kernel_size=(1, 1), stride=(1, 1), padding=(1, 1))\n",
      "Copying data from\n",
      "  nn.SpatialConvolution(256 -> 512, 3x3, 2, 2, 1, 1) to\n",
      "  Conv2d(256, 512, kernel_size=(3, 3), stride=(2, 2), padding=(1, 1))\n",
      "Copying data from\n",
      "  nn.SpatialConvolution(512 -> 128, 1x1) to\n",
      "  Conv2d(512, 128, kernel_size=(1, 1), stride=(1, 1), padding=(1, 1))\n",
      "Copying data from\n",
      "  nn.SpatialConvolution(128 -> 256, 3x3, 2, 2, 1, 1) to\n",
      "  Conv2d(128, 256, kernel_size=(3, 3), stride=(2, 2), padding=(1, 1))\n",
      "Copying data from\n",
      "  nn.SpatialConvolution(256 -> 128, 1x1) to\n",
      "  Conv2d(256, 128, kernel_size=(1, 1), stride=(1, 1), padding=(1, 1))\n",
      "Copying data from\n",
      "  nn.SpatialConvolution(128 -> 256, 3x3, 2, 2, 1, 1) to\n",
      "  Conv2d(128, 256, kernel_size=(3, 3), stride=(2, 2), padding=(1, 1))\n",
      "Copying data from\n",
      "  nn.SpatialConvolution(512 -> 12, 3x3, 1, 1, 1, 1) to\n",
      "  Conv2d(512, 12, kernel_size=(3, 3), stride=(1, 1), padding=(1, 1))\n",
      "Copying data from\n",
      "  nn.SpatialConvolution(512 -> 63, 3x3, 1, 1, 1, 1) to\n",
      "  Conv2d(512, 63, kernel_size=(3, 3), stride=(1, 1), padding=(1, 1))\n",
      "Copying data from\n",
      "  nn.SpatialConvolution(1024 -> 24, 3x3, 1, 1, 1, 1) to\n",
      "  Conv2d(1024, 24, kernel_size=(3, 3), stride=(1, 1), padding=(1, 1))\n",
      "Copying data from\n",
      "  nn.SpatialConvolution(1024 -> 126, 3x3, 1, 1, 1, 1) to\n",
      "  Conv2d(1024, 126, kernel_size=(3, 3), stride=(1, 1), padding=(1, 1))\n",
      "Copying data from\n",
      "  nn.SpatialConvolution(512 -> 24, 3x3, 1, 1, 1, 1) to\n",
      "  Conv2d(512, 24, kernel_size=(3, 3), stride=(1, 1), padding=(1, 1))\n",
      "Copying data from\n",
      "  nn.SpatialConvolution(512 -> 126, 3x3, 1, 1, 1, 1) to\n",
      "  Conv2d(512, 126, kernel_size=(3, 3), stride=(1, 1), padding=(1, 1))\n",
      "Copying data from\n",
      "  nn.SpatialConvolution(256 -> 24, 3x3, 1, 1, 1, 1) to\n",
      "  Conv2d(256, 24, kernel_size=(3, 3), stride=(1, 1), padding=(1, 1))\n",
      "Copying data from\n",
      "  nn.SpatialConvolution(256 -> 126, 3x3, 1, 1, 1, 1) to\n",
      "  Conv2d(256, 126, kernel_size=(3, 3), stride=(1, 1), padding=(1, 1))\n"
     ]
    },
    {
     "ename": "IndexError",
     "evalue": "list index out of range",
     "output_type": "error",
     "traceback": [
      "\u001b[0;31m---------------------------------------------------------------------------\u001b[0m",
      "\u001b[0;31mIndexError\u001b[0m                                Traceback (most recent call last)",
      "\u001b[0;32m<ipython-input-9-1dee8b25de18>\u001b[0m in \u001b[0;36m<module>\u001b[0;34m()\u001b[0m\n\u001b[1;32m      4\u001b[0m         \u001b[0;32mcontinue\u001b[0m\u001b[0;34m\u001b[0m\u001b[0m\n\u001b[1;32m      5\u001b[0m     \u001b[0;32massert\u001b[0m \u001b[0mhasattr\u001b[0m\u001b[0;34m(\u001b[0m\u001b[0mt7_module\u001b[0m\u001b[0;34m,\u001b[0m \u001b[0;34m'bias'\u001b[0m\u001b[0;34m)\u001b[0m\u001b[0;34m\u001b[0m\u001b[0m\n\u001b[0;32m----> 6\u001b[0;31m     \u001b[0;32mwhile\u001b[0m \u001b[0;32mnot\u001b[0m \u001b[0mhasattr\u001b[0m\u001b[0;34m(\u001b[0m\u001b[0mpytorch_modules\u001b[0m\u001b[0;34m[\u001b[0m\u001b[0mnext_pytorch_idx\u001b[0m\u001b[0;34m]\u001b[0m\u001b[0;34m,\u001b[0m \u001b[0;34m'weight'\u001b[0m\u001b[0;34m)\u001b[0m\u001b[0;34m:\u001b[0m\u001b[0;34m\u001b[0m\u001b[0m\n\u001b[0m\u001b[1;32m      7\u001b[0m         \u001b[0mnext_pytorch_idx\u001b[0m \u001b[0;34m+=\u001b[0m \u001b[0;36m1\u001b[0m\u001b[0;34m\u001b[0m\u001b[0m\n\u001b[1;32m      8\u001b[0m     \u001b[0mpytorch_module\u001b[0m \u001b[0;34m=\u001b[0m \u001b[0mpytorch_modules\u001b[0m\u001b[0;34m[\u001b[0m\u001b[0mnext_pytorch_idx\u001b[0m\u001b[0;34m]\u001b[0m\u001b[0;34m\u001b[0m\u001b[0m\n",
      "\u001b[0;31mIndexError\u001b[0m: list index out of range"
     ]
    }
   ],
   "source": [
    "next_pytorch_idx = 0\n",
    "for i, t7_module in enumerate(ssd.modules):\n",
    "    if not hasattr(t7_module, 'weight'):\n",
    "        continue\n",
    "    assert hasattr(t7_module, 'bias')\n",
    "    while not hasattr(pytorch_modules[next_pytorch_idx], 'weight'):\n",
    "        next_pytorch_idx += 1\n",
    "    pytorch_module = pytorch_modules[next_pytorch_idx]\n",
    "    next_pytorch_idx += 1\n",
    "    assert(t7_module.weight.size() == pytorch_module.weight.size())\n",
    "    print('Copying data from\\n  %r to\\n  %r' % (t7_module, pytorch_module))\n",
    "\n",
    "    pytorch_module.weight.data.copy_(t7_module.weight)\n",
    "    assert(t7_module.bias.size() == pytorch_module.bias.size())\n",
    "    pytorch_module.bias.data.copy_(t7_module.bias)\n"
   ]
  },
  {
   "cell_type": "code",
   "execution_count": 10,
   "metadata": {
    "collapsed": false
   },
   "outputs": [
    {
     "name": "stdout",
     "output_type": "stream",
     "text": [
      "torch.Size([4008, 4])\n",
      "hi\n"
     ]
    }
   ],
   "source": [
    "detections = net(Variable(img),'test')"
   ]
  },
  {
   "cell_type": "code",
   "execution_count": 11,
   "metadata": {
    "collapsed": false
   },
   "outputs": [
    {
     "data": {
      "text/plain": [
       "torch.Size([1, 200, 7])"
      ]
     },
     "execution_count": 11,
     "metadata": {},
     "output_type": "execute_result"
    }
   ],
   "source": [
    "detections.size()"
   ]
  },
  {
   "cell_type": "code",
   "execution_count": 12,
   "metadata": {
    "collapsed": false
   },
   "outputs": [],
   "source": [
    "detections = detections.data.numpy()"
   ]
  },
  {
   "cell_type": "code",
   "execution_count": 15,
   "metadata": {
    "collapsed": false
   },
   "outputs": [
    {
     "data": {
      "text/plain": [
       "(1, 200, 7)"
      ]
     },
     "execution_count": 15,
     "metadata": {},
     "output_type": "execute_result"
    }
   ],
   "source": [
    "detections.shape"
   ]
  },
  {
   "cell_type": "code",
   "execution_count": 43,
   "metadata": {
    "collapsed": false
   },
   "outputs": [
    {
     "data": {
      "text/plain": [
       "0.26284048"
      ]
     },
     "execution_count": 43,
     "metadata": {},
     "output_type": "execute_result"
    }
   ],
   "source": [
    "detections[0][1][6]"
   ]
  },
  {
   "cell_type": "code",
   "execution_count": 17,
   "metadata": {
    "collapsed": false
   },
   "outputs": [],
   "source": [
    "# Parse the outputs.\n",
    "det_label = detections[0,:,1]\n",
    "det_conf = detections[0,:,2]\n",
    "det_xmin = detections[0,:,3]\n",
    "det_ymin = detections[0,:,4]\n",
    "det_xmax = detections[0,:,5]\n",
    "det_ymax = detections[0,:,6]\n",
    "\n",
    "# Get detections with confidence higher than 0.6.\n",
    "top_indices = [i for i, conf in enumerate(det_conf) if conf >= 0.6]\n",
    "\n",
    "top_conf = det_conf[top_indices]\n",
    "top_label_indices = det_label[top_indices].tolist()\n",
    "#top_labels = get_labelname(labelmap, top_label_indices)\n",
    "top_xmin = det_xmin[top_indices]\n",
    "top_ymin = det_ymin[top_indices]\n",
    "top_xmax = det_xmax[top_indices]\n",
    "top_ymax = det_ymax[top_indices]"
   ]
  },
  {
   "cell_type": "code",
   "execution_count": 25,
   "metadata": {
    "collapsed": false
   },
   "outputs": [
    {
     "data": {
      "text/plain": [
       "[0,\n",
       " 1,\n",
       " 2,\n",
       " 3,\n",
       " 4,\n",
       " 5,\n",
       " 6,\n",
       " 7,\n",
       " 8,\n",
       " 9,\n",
       " 10,\n",
       " 11,\n",
       " 12,\n",
       " 13,\n",
       " 14,\n",
       " 15,\n",
       " 16,\n",
       " 17,\n",
       " 18,\n",
       " 19,\n",
       " 20,\n",
       " 21,\n",
       " 22,\n",
       " 23,\n",
       " 24,\n",
       " 25,\n",
       " 26,\n",
       " 27,\n",
       " 28,\n",
       " 29,\n",
       " 30,\n",
       " 31,\n",
       " 32,\n",
       " 33,\n",
       " 34,\n",
       " 35,\n",
       " 36,\n",
       " 37,\n",
       " 38,\n",
       " 39,\n",
       " 40,\n",
       " 41,\n",
       " 42,\n",
       " 43,\n",
       " 44,\n",
       " 45,\n",
       " 46,\n",
       " 47,\n",
       " 48,\n",
       " 49,\n",
       " 50,\n",
       " 51,\n",
       " 52,\n",
       " 53,\n",
       " 54,\n",
       " 55,\n",
       " 56,\n",
       " 57,\n",
       " 58,\n",
       " 59,\n",
       " 60,\n",
       " 61,\n",
       " 62,\n",
       " 63,\n",
       " 64,\n",
       " 65,\n",
       " 66,\n",
       " 67,\n",
       " 68,\n",
       " 69,\n",
       " 70,\n",
       " 71,\n",
       " 72,\n",
       " 73,\n",
       " 74,\n",
       " 75,\n",
       " 76,\n",
       " 77,\n",
       " 78,\n",
       " 79,\n",
       " 80,\n",
       " 81,\n",
       " 82,\n",
       " 83,\n",
       " 84,\n",
       " 85,\n",
       " 86,\n",
       " 87,\n",
       " 88,\n",
       " 89,\n",
       " 90,\n",
       " 91,\n",
       " 92,\n",
       " 93,\n",
       " 94,\n",
       " 95,\n",
       " 96,\n",
       " 97,\n",
       " 98,\n",
       " 99,\n",
       " 100,\n",
       " 101,\n",
       " 102,\n",
       " 103,\n",
       " 104,\n",
       " 105,\n",
       " 106,\n",
       " 107,\n",
       " 108,\n",
       " 109,\n",
       " 110,\n",
       " 111,\n",
       " 112,\n",
       " 113,\n",
       " 114,\n",
       " 115,\n",
       " 116,\n",
       " 117,\n",
       " 118,\n",
       " 119,\n",
       " 120,\n",
       " 121,\n",
       " 122,\n",
       " 123,\n",
       " 124,\n",
       " 125,\n",
       " 126,\n",
       " 127,\n",
       " 128,\n",
       " 129,\n",
       " 130,\n",
       " 131,\n",
       " 132,\n",
       " 133,\n",
       " 134,\n",
       " 135,\n",
       " 136,\n",
       " 137,\n",
       " 138,\n",
       " 139,\n",
       " 140,\n",
       " 141,\n",
       " 142,\n",
       " 143,\n",
       " 144,\n",
       " 145,\n",
       " 146,\n",
       " 147,\n",
       " 148,\n",
       " 149,\n",
       " 150,\n",
       " 151,\n",
       " 152,\n",
       " 153,\n",
       " 154,\n",
       " 155,\n",
       " 156,\n",
       " 157,\n",
       " 158,\n",
       " 159,\n",
       " 160,\n",
       " 161,\n",
       " 162,\n",
       " 163,\n",
       " 164,\n",
       " 165,\n",
       " 166,\n",
       " 167,\n",
       " 168,\n",
       " 169,\n",
       " 170,\n",
       " 171,\n",
       " 172,\n",
       " 173,\n",
       " 174,\n",
       " 175,\n",
       " 176,\n",
       " 177,\n",
       " 178,\n",
       " 179,\n",
       " 180,\n",
       " 181,\n",
       " 182,\n",
       " 183,\n",
       " 184,\n",
       " 185,\n",
       " 186,\n",
       " 187,\n",
       " 188,\n",
       " 189,\n",
       " 190,\n",
       " 191,\n",
       " 192,\n",
       " 193,\n",
       " 194,\n",
       " 195,\n",
       " 196,\n",
       " 197,\n",
       " 198,\n",
       " 199]"
      ]
     },
     "execution_count": 25,
     "metadata": {},
     "output_type": "execute_result"
    }
   ],
   "source": [
    "top_indices"
   ]
  },
  {
   "cell_type": "code",
   "execution_count": 20,
   "metadata": {
    "collapsed": false
   },
   "outputs": [
    {
     "ename": "SyntaxError",
     "evalue": "invalid syntax (rrule.py, line 55)",
     "output_type": "error",
     "traceback": [
      "\u001b[0;36m  File \u001b[0;32m\"/Users/amdegroot/anaconda3/lib/python3.6/site-packages/dateutil/rrule.py\"\u001b[0;36m, line \u001b[0;32m55\u001b[0m\n\u001b[0;31m    raise ValueError, \"Can't create weekday with n == 0\"\u001b[0m\n\u001b[0m                    ^\u001b[0m\n\u001b[0;31mSyntaxError\u001b[0m\u001b[0;31m:\u001b[0m invalid syntax\n"
     ]
    }
   ],
   "source": [
    "import matplotlib.pyplot as plt\n",
    "colors = plt.cm.hsv(np.linspace(0, 1, 21)).tolist()\n",
    "\n",
    "plt.imshow(image)\n",
    "currentAxis = plt.gca()\n",
    "\n",
    "for i in xrange(top_conf.shape[0]):\n",
    "    xmin = int(round(top_xmin[i] * image.shape[1]))\n",
    "    ymin = int(round(top_ymin[i] * image.shape[0]))\n",
    "    xmax = int(round(top_xmax[i] * image.shape[1]))\n",
    "    ymax = int(round(top_ymax[i] * image.shape[0]))\n",
    "    score = top_conf[i]\n",
    "    label = int(top_label_indices[i])\n",
    "    label_name = top_labels[i]\n",
    "    display_txt = '%s: %.2f'%(label_name, score)\n",
    "    coords = (xmin, ymin), xmax-xmin+1, ymax-ymin+1\n",
    "    color = colors[label]\n",
    "    currentAxis.add_patch(plt.Rectangle(*coords, fill=False, edgecolor=color, linewidth=2))\n",
    "    currentAxis.text(xmin, ymin, display_txt, bbox={'facecolor':color, 'alpha':0.5})"
   ]
  },
  {
   "cell_type": "code",
   "execution_count": null,
   "metadata": {
    "collapsed": false
   },
   "outputs": [],
   "source": [
    "import os\n",
    "cwd = os.getcwd()"
   ]
  },
  {
   "cell_type": "code",
   "execution_count": null,
   "metadata": {
    "collapsed": true
   },
   "outputs": [],
   "source": [
    "cwd"
   ]
  }
 ],
 "metadata": {
  "kernelspec": {
   "display_name": "Python 3",
   "language": "python",
   "name": "python3"
  },
  "language_info": {
   "codemirror_mode": {
    "name": "ipython",
    "version": 3
   },
   "file_extension": ".py",
   "mimetype": "text/x-python",
   "name": "python",
   "nbconvert_exporter": "python",
   "pygments_lexer": "ipython3",
   "version": "3.6.0"
  }
 },
 "nbformat": 4,
 "nbformat_minor": 2
}
