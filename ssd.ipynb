{
 "cells": [
  {
   "cell_type": "code",
   "execution_count": 53,
   "metadata": {
    "collapsed": false
   },
   "outputs": [],
   "source": [
    "import torch.nn as nn\n",
    "import numpy as np\n",
    "from torch.autograd import Variable\n",
    "from torch.autograd import Function\n",
    "from utils import*\n",
    "from detection_output import Detect\n",
    "from prior_box import PriorBox\n",
    "from l2norm import L2norm as L2norm\n",
    "from model import build_ssd\n",
    "import torchvision.transforms as transforms\n",
    "import torchvision.models as models\n",
    "from torch.utils.serialization import load_lua\n",
    "from f_l2norm import L2norm as norm\n",
    "import PIL\n",
    "from PIL import Image\n"
   ]
  },
  {
   "cell_type": "code",
   "execution_count": 54,
   "metadata": {
    "collapsed": false
   },
   "outputs": [],
   "source": [
    "net = build_ssd()"
   ]
  },
  {
   "cell_type": "code",
   "execution_count": 7,
   "metadata": {
    "collapsed": false
   },
   "outputs": [],
   "source": [
    "img = load_lua('data/img9505.t7').float()\n",
    "ssd = load_lua('../PyTorchProjects/pytorch-ssd/VOC.t7')\n",
    "norm_weights = load_lua('weights/normWeights.t7')"
   ]
  },
  {
   "cell_type": "code",
   "execution_count": 9,
   "metadata": {
    "collapsed": true
   },
   "outputs": [],
   "source": [
    "# imsize = 300\n",
    "# loader = transforms.Compose([\n",
    "#            # transforms.Scale(imsize),# scale imported image\n",
    "#            # transforms.CenterCrop(imsize),\n",
    "#             transforms.ToTensor()]) # transform it into a torch tensor\n",
    "\n",
    "# def image_loader(image_name):\n",
    "#     image = Image.open(image_name)\n",
    "#     image = loader(image)\n",
    "#     #image = image.unsqueeze(0) # fake batch dimension required to fit network's input dimensions\n",
    "#     return image\n",
    "\n"
   ]
  },
  {
   "cell_type": "code",
   "execution_count": 10,
   "metadata": {
    "collapsed": false,
    "scrolled": true
   },
   "outputs": [
    {
     "name": "stdout",
     "output_type": "stream",
     "text": [
      "torch.Size([64, 3, 3, 3])\n",
      "torch.Size([64, 3, 3, 3])\n",
      "0 Copying data from\n",
      "  nn.SpatialConvolution(3 -> 64, 3x3, 1, 1, 1, 1) to\n",
      "  Conv2d(3, 64, kernel_size=(3, 3), stride=(1, 1), padding=(1, 1))\n",
      "torch.Size([64, 64, 3, 3])\n",
      "torch.Size([64, 64, 3, 3])\n",
      "2 Copying data from\n",
      "  nn.SpatialConvolution(64 -> 64, 3x3, 1, 1, 1, 1) to\n",
      "  Conv2d(64, 64, kernel_size=(3, 3), stride=(1, 1), padding=(1, 1))\n",
      "torch.Size([128, 64, 3, 3])\n",
      "torch.Size([128, 64, 3, 3])\n",
      "5 Copying data from\n",
      "  nn.SpatialConvolution(64 -> 128, 3x3, 1, 1, 1, 1) to\n",
      "  Conv2d(64, 128, kernel_size=(3, 3), stride=(1, 1), padding=(1, 1))\n",
      "torch.Size([128, 128, 3, 3])\n",
      "torch.Size([128, 128, 3, 3])\n",
      "7 Copying data from\n",
      "  nn.SpatialConvolution(128 -> 128, 3x3, 1, 1, 1, 1) to\n",
      "  Conv2d(128, 128, kernel_size=(3, 3), stride=(1, 1), padding=(1, 1))\n",
      "torch.Size([256, 128, 3, 3])\n",
      "torch.Size([256, 128, 3, 3])\n",
      "10 Copying data from\n",
      "  nn.SpatialConvolution(128 -> 256, 3x3, 1, 1, 1, 1) to\n",
      "  Conv2d(128, 256, kernel_size=(3, 3), stride=(1, 1), padding=(1, 1))\n",
      "torch.Size([256, 256, 3, 3])\n",
      "torch.Size([256, 256, 3, 3])\n",
      "12 Copying data from\n",
      "  nn.SpatialConvolution(256 -> 256, 3x3, 1, 1, 1, 1) to\n",
      "  Conv2d(256, 256, kernel_size=(3, 3), stride=(1, 1), padding=(1, 1))\n",
      "torch.Size([256, 256, 3, 3])\n",
      "torch.Size([256, 256, 3, 3])\n",
      "14 Copying data from\n",
      "  nn.SpatialConvolution(256 -> 256, 3x3, 1, 1, 1, 1) to\n",
      "  Conv2d(256, 256, kernel_size=(3, 3), stride=(1, 1), padding=(1, 1))\n",
      "torch.Size([512, 256, 3, 3])\n",
      "torch.Size([512, 256, 3, 3])\n",
      "17 Copying data from\n",
      "  nn.SpatialConvolution(256 -> 512, 3x3, 1, 1, 1, 1) to\n",
      "  Conv2d(256, 512, kernel_size=(3, 3), stride=(1, 1), padding=(1, 1))\n",
      "torch.Size([512, 512, 3, 3])\n",
      "torch.Size([512, 512, 3, 3])\n",
      "19 Copying data from\n",
      "  nn.SpatialConvolution(512 -> 512, 3x3, 1, 1, 1, 1) to\n",
      "  Conv2d(512, 512, kernel_size=(3, 3), stride=(1, 1), padding=(1, 1))\n",
      "torch.Size([512, 512, 3, 3])\n",
      "torch.Size([512, 512, 3, 3])\n",
      "21 Copying data from\n",
      "  nn.SpatialConvolution(512 -> 512, 3x3, 1, 1, 1, 1) to\n",
      "  Conv2d(512, 512, kernel_size=(3, 3), stride=(1, 1), padding=(1, 1))\n",
      "torch.Size([512, 512, 3, 3])\n",
      "torch.Size([512, 512, 3, 3])\n",
      "24 Copying data from\n",
      "  nn.SpatialConvolution(512 -> 512, 3x3, 1, 1, 1, 1) to\n",
      "  Conv2d(512, 512, kernel_size=(3, 3), stride=(1, 1), padding=(1, 1))\n",
      "torch.Size([512, 512, 3, 3])\n",
      "torch.Size([512, 512, 3, 3])\n",
      "26 Copying data from\n",
      "  nn.SpatialConvolution(512 -> 512, 3x3, 1, 1, 1, 1) to\n",
      "  Conv2d(512, 512, kernel_size=(3, 3), stride=(1, 1), padding=(1, 1))\n",
      "torch.Size([512, 512, 3, 3])\n",
      "torch.Size([512, 512, 3, 3])\n",
      "28 Copying data from\n",
      "  nn.SpatialConvolution(512 -> 512, 3x3, 1, 1, 1, 1) to\n",
      "  Conv2d(512, 512, kernel_size=(3, 3), stride=(1, 1), padding=(1, 1))\n",
      "torch.Size([1024, 512, 3, 3])\n",
      "torch.Size([1024, 512, 3, 3])\n",
      "31 Copying data from\n",
      "  nn.SpatialConvolution(512 -> 1024, 3x3, 1, 1, 6, 6) to\n",
      "  Conv2d(512, 1024, kernel_size=(3, 3), stride=(1, 1), padding=(6, 6), dilation=(6, 6))\n",
      "torch.Size([1024, 1024, 1, 1])\n",
      "torch.Size([1024, 1024, 1, 1])\n",
      "33 Copying data from\n",
      "  nn.SpatialConvolution(1024 -> 1024, 1x1) to\n",
      "  Conv2d(1024, 1024, kernel_size=(1, 1), stride=(1, 1))\n",
      "torch.Size([256, 1024, 1, 1])\n",
      "torch.Size([256, 1024, 1, 1])\n",
      "35 Copying data from\n",
      "  nn.SpatialConvolution(1024 -> 256, 1x1) to\n",
      "  Conv2d(1024, 256, kernel_size=(1, 1), stride=(1, 1))\n",
      "torch.Size([512, 256, 3, 3])\n",
      "torch.Size([512, 256, 3, 3])\n",
      "37 Copying data from\n",
      "  nn.SpatialConvolution(256 -> 512, 3x3, 2, 2, 1, 1) to\n",
      "  Conv2d(256, 512, kernel_size=(3, 3), stride=(2, 2), padding=(1, 1))\n",
      "torch.Size([128, 512, 1, 1])\n",
      "torch.Size([128, 512, 1, 1])\n",
      "39 Copying data from\n",
      "  nn.SpatialConvolution(512 -> 128, 1x1) to\n",
      "  Conv2d(512, 128, kernel_size=(1, 1), stride=(1, 1))\n",
      "torch.Size([256, 128, 3, 3])\n",
      "torch.Size([256, 128, 3, 3])\n",
      "41 Copying data from\n",
      "  nn.SpatialConvolution(128 -> 256, 3x3, 2, 2, 1, 1) to\n",
      "  Conv2d(128, 256, kernel_size=(3, 3), stride=(2, 2), padding=(1, 1))\n",
      "torch.Size([128, 256, 1, 1])\n",
      "torch.Size([128, 256, 1, 1])\n",
      "43 Copying data from\n",
      "  nn.SpatialConvolution(256 -> 128, 1x1) to\n",
      "  Conv2d(256, 128, kernel_size=(1, 1), stride=(1, 1))\n",
      "torch.Size([256, 128, 3, 3])\n",
      "torch.Size([256, 128, 3, 3])\n",
      "45 Copying data from\n",
      "  nn.SpatialConvolution(128 -> 256, 3x3, 2, 2, 1, 1) to\n",
      "  Conv2d(128, 256, kernel_size=(3, 3), stride=(2, 2), padding=(1, 1))\n",
      "torch.Size([12, 512, 3, 3])\n",
      "torch.Size([12, 512, 3, 3])\n",
      "48 Copying data from\n",
      "  nn.SpatialConvolution(512 -> 12, 3x3, 1, 1, 1, 1) to\n",
      "  Conv2d(512, 12, kernel_size=(3, 3), stride=(1, 1), padding=(1, 1))\n",
      "torch.Size([63, 512, 3, 3])\n",
      "torch.Size([63, 512, 3, 3])\n",
      "49 Copying data from\n",
      "  nn.SpatialConvolution(512 -> 63, 3x3, 1, 1, 1, 1) to\n",
      "  Conv2d(512, 63, kernel_size=(3, 3), stride=(1, 1), padding=(1, 1))\n",
      "torch.Size([24, 1024, 3, 3])\n",
      "torch.Size([24, 1024, 3, 3])\n",
      "50 Copying data from\n",
      "  nn.SpatialConvolution(1024 -> 24, 3x3, 1, 1, 1, 1) to\n",
      "  Conv2d(1024, 24, kernel_size=(3, 3), stride=(1, 1), padding=(1, 1))\n",
      "torch.Size([126, 1024, 3, 3])\n",
      "torch.Size([126, 1024, 3, 3])\n",
      "51 Copying data from\n",
      "  nn.SpatialConvolution(1024 -> 126, 3x3, 1, 1, 1, 1) to\n",
      "  Conv2d(1024, 126, kernel_size=(3, 3), stride=(1, 1), padding=(1, 1))\n",
      "torch.Size([24, 512, 3, 3])\n",
      "torch.Size([24, 512, 3, 3])\n",
      "52 Copying data from\n",
      "  nn.SpatialConvolution(512 -> 24, 3x3, 1, 1, 1, 1) to\n",
      "  Conv2d(512, 24, kernel_size=(3, 3), stride=(1, 1), padding=(1, 1))\n",
      "torch.Size([126, 512, 3, 3])\n",
      "torch.Size([126, 512, 3, 3])\n",
      "53 Copying data from\n",
      "  nn.SpatialConvolution(512 -> 126, 3x3, 1, 1, 1, 1) to\n",
      "  Conv2d(512, 126, kernel_size=(3, 3), stride=(1, 1), padding=(1, 1))\n",
      "torch.Size([24, 256, 3, 3])\n",
      "torch.Size([24, 256, 3, 3])\n",
      "54 Copying data from\n",
      "  nn.SpatialConvolution(256 -> 24, 3x3, 1, 1, 1, 1) to\n",
      "  Conv2d(256, 24, kernel_size=(3, 3), stride=(1, 1), padding=(1, 1))\n",
      "torch.Size([126, 256, 3, 3])\n",
      "torch.Size([126, 256, 3, 3])\n",
      "55 Copying data from\n",
      "  nn.SpatialConvolution(256 -> 126, 3x3, 1, 1, 1, 1) to\n",
      "  Conv2d(256, 126, kernel_size=(3, 3), stride=(1, 1), padding=(1, 1))\n",
      "torch.Size([24, 256, 3, 3])\n",
      "torch.Size([24, 256, 3, 3])\n",
      "56 Copying data from\n",
      "  nn.SpatialConvolution(256 -> 24, 3x3, 1, 1, 1, 1) to\n",
      "  Conv2d(256, 24, kernel_size=(3, 3), stride=(1, 1), padding=(1, 1))\n",
      "torch.Size([126, 256, 3, 3])\n",
      "torch.Size([126, 256, 3, 3])\n",
      "57 Copying data from\n",
      "  nn.SpatialConvolution(256 -> 126, 3x3, 1, 1, 1, 1) to\n",
      "  Conv2d(256, 126, kernel_size=(3, 3), stride=(1, 1), padding=(1, 1))\n",
      "torch.Size([24, 256, 3, 3])\n",
      "torch.Size([24, 256, 3, 3])\n",
      "58 Copying data from\n",
      "  nn.SpatialConvolution(256 -> 24, 3x3, 1, 1, 1, 1) to\n",
      "  Conv2d(256, 24, kernel_size=(3, 3), stride=(1, 1), padding=(1, 1))\n",
      "torch.Size([126, 256, 3, 3])\n",
      "torch.Size([126, 256, 3, 3])\n",
      "59 Copying data from\n",
      "  nn.SpatialConvolution(256 -> 126, 3x3, 1, 1, 1, 1) to\n",
      "  Conv2d(256, 126, kernel_size=(3, 3), stride=(1, 1), padding=(1, 1))\n"
     ]
    }
   ],
   "source": [
    "pytorch_modules = list(net.modules())\n",
    "next_pytorch_idx = 0\n",
    "for i, t7_module in enumerate(ssd.modules):\n",
    "    if not hasattr(t7_module, 'weight'):\n",
    "        continue\n",
    "    assert hasattr(t7_module, 'bias')\n",
    "    while not hasattr(pytorch_modules[next_pytorch_idx], 'weight'):\n",
    "        next_pytorch_idx += 1\n",
    "    pytorch_module = pytorch_modules[next_pytorch_idx]\n",
    "    next_pytorch_idx += 1\n",
    "    if(pytorch_module.weight.data.dim() == 1):\n",
    "        pytorch_module = pytorch_modules[next_pytorch_idx]\n",
    "        next_pytorch_idx += 1\n",
    "    print(t7_module.weight.size())\n",
    "    print(pytorch_module.weight.data.size())\n",
    "    assert(t7_module.weight.size() == pytorch_module.weight.size())\n",
    "    print('%r Copying data from\\n  %r to\\n  %r' % (i, t7_module, pytorch_module))\n",
    "\n",
    "    pytorch_module.weight.data.copy_(t7_module.weight)\n",
    "    assert(t7_module.bias.size() == pytorch_module.bias.size())\n",
    "    pytorch_module.bias.data.copy_(t7_module.bias)\n",
    "pytorch_modules[-14].weight.data.copy_(norm_weights);"
   ]
  },
  {
   "cell_type": "code",
   "execution_count": 12,
   "metadata": {
    "collapsed": false
   },
   "outputs": [
    {
     "name": "stdout",
     "output_type": "stream",
     "text": [
      "7.894736842105263\n",
      "7.894736842105263\n",
      "15.789473684210526\n",
      "15.789473684210526\n",
      "30.0\n",
      "30.0\n",
      "60.0\n",
      "60.0\n",
      "100.0\n",
      "100.0\n",
      "300.0\n",
      "300.0\n",
      "torch.Size([7308, 21])\n",
      "torch.Size([1, 21, 7308])\n",
      "torch.Size([7308, 4])\n",
      "yo\n",
      "hi\n",
      "torch.Size([200])\n"
     ]
    }
   ],
   "source": [
    "detections = net(Variable(img),'test')"
   ]
  },
  {
   "cell_type": "code",
   "execution_count": 39,
   "metadata": {
    "collapsed": false
   },
   "outputs": [],
   "source": [
    "detections = detections.data\n",
    "det_label = detections[0,:,1]\n",
    "det_conf = detections[0,:,2]\n",
    "det_xmin = detections[0,:,3]\n",
    "det_ymin = detections[0,:,4]\n",
    "det_xmax = detections[0,:,5]\n",
    "det_ymax = detections[0,:,6]\n",
    "\n",
    "\n",
    "\n",
    "def top_vals(values): # Get detections with confidence higher than 0.6.\n",
    "    cutOff = []\n",
    "    for i in range(values.size(0)):\n",
    "        if det_conf[i] > 0.9:\n",
    "            cutOff.append(values[i]) \n",
    "        \n",
    "     \n",
    "    return cutOff\n",
    "\n",
    "    \n",
    "top_conf = top_vals(det_conf)\n",
    "top_labels = top_vals(det_label)\n",
    "top_xmin = top_vals(det_xmin)\n",
    "top_ymin = top_vals(det_ymin)\n",
    "top_xmax = top_vals(det_xmax)\n",
    "top_ymax = top_vals(det_ymax)"
   ]
  },
  {
   "cell_type": "code",
   "execution_count": 41,
   "metadata": {
    "collapsed": false
   },
   "outputs": [],
   "source": [
    "import matplotlib.pyplot as plt\n",
    "\n",
    "\n",
    "\n",
    "import matplotlib.patches as patches\n",
    "from PIL import Image\n",
    "\n",
    "\n",
    "im = np.array(Image.open('data/IMG_9505.jpg'), dtype=np.uint8)\n",
    "\n",
    "#"
   ]
  },
  {
   "cell_type": "code",
   "execution_count": 49,
   "metadata": {
    "collapsed": false
   },
   "outputs": [
    {
     "data": {
      "image/png": "[encoded data removed]",
      "text/plain": [
       "<matplotlib.figure.Figure at 0x16867c550>"
      ]
     },
     "metadata": {},
     "output_type": "display_data"
    }
   ],
   "source": [
    "xmin = int(round(top_xmin[0] * im.shape[1]))\n",
    "ymin = int(round(top_ymin[0] * im.shape[0]))\n",
    "xmax = int(round(top_xmax[0] * im.shape[1]))\n",
    "ymax = int(round(top_ymax[0] * im.shape[0]))\n",
    "\n",
    "# Create figure and axes\n",
    "fig,ax = plt.subplots(1)\n",
    "\n",
    "# Display the image\n",
    "ax.imshow(im)\n",
    "\n",
    "# Create a Rectangle patch\n",
    "rect = patches.Rectangle((xmax,ymin),xmax-xmin+1,ymax-ymin+1,linewidth=1,edgecolor='r',facecolor='none')\n",
    "\n",
    "# Add the patch to the Axes\n",
    "ax.add_patch(rect)\n",
    "\n",
    "plt.show()\n",
    "\n",
    "# for i in range(len(top_conf)):\n",
    "#     xmin = int(round(top_xmin[i] * im.shape[1]))\n",
    "#     ymin = int(round(top_ymin[i] * im.shape[0]))\n",
    "#     xmax = int(round(top_xmax[i] * im.shape[1]))\n",
    "#     ymax = int(round(top_ymax[i] * im.shape[0]))\n",
    "#     score = top_conf[i]\n",
    "#     label = int(top_labels[i])\n",
    "#     label_name = top_labels[i]\n",
    "#     display_txt = '%s: %.2f'%(label_name, score)\n",
    "#     coords = (xmin, ymin), xmax-xmin+1, ymax-ymin+1\n",
    "#     color = colors[label]\n",
    "#     currentAxis.add_patch(plt.Rectangle(*coords, fill=False, edgecolor=color, linewidth=2))\n",
    "#     currentAxis.text(xmin, ymin, display_txt, bbox={'facecolor':color, 'alpha':0.5})\n",
    "#     plt.show()"
   ]
  },
  {
   "cell_type": "code",
   "execution_count": null,
   "metadata": {
    "collapsed": false
   },
   "outputs": [],
   "source": [
    "import os\n",
    "cwd = os.getcwd()"
   ]
  }
 ],
 "metadata": {
  "kernelspec": {
   "display_name": "Python 3",
   "language": "python",
   "name": "python3"
  },
  "language_info": {
   "codemirror_mode": {
    "name": "ipython",
    "version": 3
   },
   "file_extension": ".py",
   "mimetype": "text/x-python",
   "name": "python",
   "nbconvert_exporter": "python",
   "pygments_lexer": "ipython3",
   "version": "3.6.0"
  }
 },
 "nbformat": 4,
 "nbformat_minor": 2
}
